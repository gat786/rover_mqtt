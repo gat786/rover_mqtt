{
 "cells": [
  {
   "cell_type": "code",
   "execution_count": null,
   "metadata": {},
   "outputs": [],
   "source": [
    "import paho.mqtt.client as paho\n",
    "\n",
    "def on_connect(client, userdata, flags, rc):\n",
    "    print(\"rc: \" + str(rc))\n",
    "\n",
    "def on_message(client, obj, msg):\n",
    "    print(msg.topic + \" \" + str(msg.qos) + \" \" + str(msg.payload))\n",
    "\n",
    "def on_publish(client, obj, mid):\n",
    "    print(\"mid: \" + str(mid))\n",
    "\n",
    "def on_subscribe(client, obj, mid, granted_qos):\n",
    "    print(\"Subscribed: \" + str(mid) + \" \" + str(granted_qos))\n",
    "    \n",
    "def listen(client):\n",
    "    client.subscribe(\"directions\")\n",
    "    client.loop_forever()\n",
    "\n",
    "if __name__ == '__main__':\n",
    "    client = paho.Client(\"rover\")\n",
    "    client.on_connect = on_connect\n",
    "    client.on_message = on_message\n",
    "    client.on_subscribe = on_subscribe\n",
    "    client.on_publish = on_publish\n",
    "    client.connect(\"127.0.0.1\",1883)\n",
    "    publish(\"directions\",payload=\"right\")\n",
    "    "
   ]
  }
 ],
 "metadata": {
  "kernelspec": {
   "display_name": "Python 3",
   "language": "python",
   "name": "python3"
  },
  "language_info": {
   "codemirror_mode": {
    "name": "ipython",
    "version": 3
   },
   "file_extension": ".py",
   "mimetype": "text/x-python",
   "name": "python",
   "nbconvert_exporter": "python",
   "pygments_lexer": "ipython3",
   "version": "3.5.3"
  }
 },
 "nbformat": 4,
 "nbformat_minor": 2
}
